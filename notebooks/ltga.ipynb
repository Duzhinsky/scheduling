{
 "cells": [
  {
   "cell_type": "markdown",
   "source": [
    "# Evolutionary approach to the Flow Shop problem \n",
    "\n",
    "The Problem\n",
    "-------------------------\n",
    "Suppose you have N jobs and M machines. Each job consists in M operations on each machine. The i-th operation is executed on the i-th machine and each operation could start only if the previous have already finished. Jobs can be executed in any order. Jobs order could differ depending on machine. The problem is to find optimal solution, i.e. that one with the minimal makespan.\n",
    "\n",
    "Problem overview\n",
    "-------------------------\n",
    "The problem is P-hard only for the case when M = 2. Then it's exactly solved by the Johnson's algorithm. The work is dedicated to the case when M > 2, and, moreover, order of jobs on machines could differ. There are several works on the problem, but most of them solves permutation problem, when order on machines remains the same. Our goal is to find an evolutionary approach to the general flow shop problem. \n",
    "\n",
    "Chromosome representation\n",
    "-------------------------\n",
    "TBD"
   ],
   "metadata": {
    "collapsed": false
   },
   "id": "6bb90d6eba1c2dbb"
  },
  {
   "cell_type": "code",
   "execution_count": 2,
   "outputs": [],
   "source": [
    "from models.job import Job, JobId\n",
    "from models.schedule import Schedule\n",
    "from typing import List, MutableMapping\n",
    "\n",
    "\"\"\"\n",
    ":returns Schedule for the order\n",
    ":param orders - Orders for each machine\n",
    "\"\"\"\n",
    "def order_to_schedule(orders: List[List[Job]]) -> Schedule:\n",
    "    result = Schedule()\n",
    "    stage_finish_map: MutableMapping[JobId, int] = {}\n",
    "    makespan = 0\n",
    "    for (machineId, orderForMachine) in enumerate(orders):\n",
    "        last_job_finishes = 0\n",
    "        for job in orderForMachine:\n",
    "            previous_stage_finished = 0\n",
    "            if job.job_id in stage_finish_map:\n",
    "                previous_stage_finished = stage_finish_map[job.job_id]\n",
    "            start_time = max(last_job_finishes, previous_stage_finished)\n",
    "            if machineId not in result.table:\n",
    "                result.table[machineId] = []\n",
    "            result.table[machineId].append((start_time, job.job_id, job.actions[machineId]))\n",
    "            last_job_finishes = start_time + job.actions[machineId]\n",
    "            stage_finish_map[job.job_id] = last_job_finishes\n",
    "        makespan = max(makespan, last_job_finishes)\n",
    "    result.makespan = makespan\n",
    "        \n",
    "    return result\n",
    "        "
   ],
   "metadata": {
    "collapsed": false,
    "ExecuteTime": {
     "end_time": "2023-09-22T12:29:07.032758300Z",
     "start_time": "2023-09-22T12:29:07.001080500Z"
    }
   },
   "id": "dd44271f53964559"
  },
  {
   "cell_type": "code",
   "execution_count": 3,
   "outputs": [],
   "source": [
    "from collections import deque\n",
    "from typing import List, Deque\n",
    "from models.job import Job\n",
    "from functools import cmp_to_key\n",
    "\n",
    "\n",
    "# Solver for the \"F2 || C_max\" task introduced in the following article:\n",
    "# S.M. Johnson. Optimal two-and-three-stage production schedules with set-up times included.\n",
    "# Naval Research Logistic Quaterly, 1:61–68, 1954\n",
    "# link: https://www.rand.org/content/dam/rand/pubs/papers/2008/P402.pdf\n",
    "# param: list of jobs to optimize schedule\n",
    "# returns: jobs ordered to minimize the makespan. As for F2 an order is equal for both stages, list is 1xN\n",
    "def f2_cmax_johnson_solver(jobs: List[Job]) -> List[Job]:\n",
    "    # Validate input\n",
    "    for job in jobs:\n",
    "        if len(job.actions) != 2:\n",
    "            raise ValueError(\"Johnson solver is able to solve F2||C_max only. \"\n",
    "                             f\"There is a job with {len(job.actions)} actions, so it couldn't be executed as F2 job\")\n",
    "\n",
    "    # Sort by minimal stage time\n",
    "    def jobs_comparator(lhs: Job, rhs: Job) -> int:\n",
    "        return min(lhs.actions) - min(rhs.actions)\n",
    "\n",
    "    sorted_jobs = sorted(jobs, key=cmp_to_key(jobs_comparator))\n",
    "    first_stage_jobs: Deque[Job] = deque()\n",
    "    second_stage_jobs: Deque[Job] = deque()\n",
    "\n",
    "    for job in sorted_jobs:\n",
    "        if job.actions[0] < job.actions[1]:\n",
    "            first_stage_jobs.append(job)\n",
    "        else:\n",
    "            second_stage_jobs.appendleft(job)\n",
    "\n",
    "    return list(first_stage_jobs + second_stage_jobs)"
   ],
   "metadata": {
    "collapsed": false,
    "ExecuteTime": {
     "end_time": "2023-09-22T12:29:07.063835300Z",
     "start_time": "2023-09-22T12:29:07.021237400Z"
    }
   },
   "id": "111e486658094232"
  },
  {
   "cell_type": "code",
   "execution_count": 4,
   "outputs": [
    {
     "name": "stdout",
     "output_type": "stream",
     "text": [
      "###########################\n",
      "4333111155555555222        \n",
      " 44443333111111115555555222\n",
      "###########################\n",
      "Makespan: 27\n"
     ]
    }
   ],
   "source": [
    "test1 = f2_cmax_johnson_solver([\n",
    "            Job(1, [4, 8]),\n",
    "            Job(2, [3, 3]),\n",
    "            Job(3, [3, 4]),\n",
    "            Job(4, [1, 4]),\n",
    "            Job(5, [8, 7])\n",
    "        ])\n",
    "\n",
    "print(order_to_schedule([test1, test1]))"
   ],
   "metadata": {
    "collapsed": false,
    "ExecuteTime": {
     "end_time": "2023-09-22T12:29:07.063835300Z",
     "start_time": "2023-09-22T12:29:07.036354Z"
    }
   },
   "id": "68f77ee66ccd755a"
  },
  {
   "cell_type": "code",
   "execution_count": 4,
   "outputs": [],
   "source": [],
   "metadata": {
    "collapsed": false,
    "ExecuteTime": {
     "end_time": "2023-09-22T12:29:07.063835300Z",
     "start_time": "2023-09-22T12:29:07.056819100Z"
    }
   },
   "id": "829e198440ac6c9f"
  }
 ],
 "metadata": {
  "kernelspec": {
   "display_name": "Python 3",
   "language": "python",
   "name": "python3"
  },
  "language_info": {
   "codemirror_mode": {
    "name": "ipython",
    "version": 2
   },
   "file_extension": ".py",
   "mimetype": "text/x-python",
   "name": "python",
   "nbconvert_exporter": "python",
   "pygments_lexer": "ipython2",
   "version": "2.7.6"
  }
 },
 "nbformat": 4,
 "nbformat_minor": 5
}
