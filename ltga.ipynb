{
 "cells": [
  {
   "cell_type": "markdown",
   "source": [
    "# Evolutionary approach to the Flow Shop problem \n",
    "\n",
    "The Problem\n",
    "-------------------------\n",
    "Suppose you have N jobs and M machines. Each job consists in M operations on each machine. The i-th operation is executed on the i-th machine and each operation could start only if the previous have already finished. Jobs can be executed in any order. Jobs order could differ depending on machine. The problem is to find optimal solution, i.e. that one with the minimal makespan.\n",
    "\n",
    "Problem overview\n",
    "-------------------------\n",
    "The problem is P-hard only for the case when M = 2. Then it's exactly solved by the Johnson's algorithm. The work is dedicated to the case when M > 2, and, moreover, order of jobs on machines could differ. There are several works on the problem, but most of them solves permutation problem, when order on machines remains the same. Our goal is to find an evolutionary approach to the general flow shop problem. \n",
    "\n",
    "Chromosome representation\n",
    "-------------------------\n",
    "TBD"
   ],
   "metadata": {
    "collapsed": false
   },
   "id": "6bb90d6eba1c2dbb"
  },
  {
   "cell_type": "code",
   "execution_count": 10,
   "outputs": [],
   "source": [
    "from collections import deque\n",
    "from typing import List, Deque\n",
    "from job import Job\n",
    "from functools import cmp_to_key\n",
    "\n",
    "def f2_cmax_johnson_solver(jobs: List[Job]) -> List[Job]:\n",
    "    \"\"\"\n",
    "    Solver for the \"F2 || C_max\" task introduced in the following article:\n",
    "    \n",
    "    S.M. Johnson. Optimal two-and-three-stage production schedules with set-up times included.\n",
    "    Naval Research Logistic Quaterly, 1:61–68, 1954\n",
    "    \n",
    "    link: https://www.rand.org/content/dam/rand/pubs/papers/2008/P402.pdf\n",
    "    \n",
    "    :param jobs: list of jobs to optimize schedule\n",
    "    :returns: jobs ordered to minimize the makespan. As for F2 an order is equal for both stages, list is 1xN\n",
    "    \"\"\"\n",
    "    # Validate input\n",
    "    for job in jobs:\n",
    "        if len(job.actions) != 2:\n",
    "            raise ValueError(\"Johnson solver is able to solve F2||C_max only. \"\n",
    "                             f\"There is a job with {len(job.actions)} actions, so it couldn't be executed as F2 job\")\n",
    "\n",
    "    # Sort by minimal stage time\n",
    "    def jobs_comparator(lhs: Job, rhs: Job) -> int:\n",
    "        return min(lhs.actions) - min(rhs.actions)\n",
    "\n",
    "    sorted_jobs = sorted(jobs, key=cmp_to_key(jobs_comparator))\n",
    "    first_stage_jobs: Deque[Job] = deque()\n",
    "    second_stage_jobs: Deque[Job] = deque()\n",
    "\n",
    "    for job in sorted_jobs:\n",
    "        if job.actions[0] < job.actions[1]:\n",
    "            first_stage_jobs.append(job)\n",
    "        else:\n",
    "            second_stage_jobs.appendleft(job)\n",
    "\n",
    "    return list(first_stage_jobs + second_stage_jobs)"
   ],
   "metadata": {
    "collapsed": false,
    "ExecuteTime": {
     "end_time": "2023-12-03T13:53:18.925711900Z",
     "start_time": "2023-12-03T13:53:18.878825400Z"
    }
   },
   "id": "111e486658094232"
  },
  {
   "cell_type": "code",
   "execution_count": 26,
   "outputs": [
    {
     "name": "stdout",
     "output_type": "stream",
     "text": [
      "######################################################\n",
      "\u001B[0;97;102m9\u001B[0m\u001B[0;97;105m \u001B[0m\u001B[0;97;100m \u001B[0m\u001B[0;97;105m \u001B[0m\u001B[0;97;105m5\u001B[0m\u001B[0;97;105m \u001B[0m\u001B[0;97;103m \u001B[0m\u001B[0;97;103m1\u001B[0m\u001B[0;97;103m7\u001B[0m\u001B[0;97;103m \u001B[0m\u001B[0;97;101m \u001B[0m\u001B[0;97;101m1\u001B[0m\u001B[0;97;101m5\u001B[0m\u001B[0;97;101m \u001B[0m\u001B[0;97;101m \u001B[0m\u001B[0;97;101m1\u001B[0m\u001B[0;97;101m \u001B[0m\u001B[0;97;101m \u001B[0m\u001B[0;97;100m \u001B[0m\u001B[0;97;100m7\u001B[0m\u001B[0;97;100m \u001B[0m\u001B[0;97;106m \u001B[0m\u001B[0;97;106m6\u001B[0m\u001B[0;97;106m \u001B[0m\u001B[0;97;103m \u001B[0m\u001B[0;97;103m3\u001B[0m\u001B[0;97;103m \u001B[0m\u001B[0;97;104m1\u001B[0m\u001B[0;97;104m8\u001B[0m\u001B[0;97;102m1\u001B[0m\u001B[0;97;102m6\u001B[0m\u001B[0;97;102m \u001B[0m\u001B[0;97;104m1\u001B[0m\u001B[0;97;104m1\u001B[0m\u001B[0;97;103m1\u001B[0m\u001B[0;97;103m0\u001B[0m\u001B[0;97;102m \u001B[0m\u001B[0;97;102m2\u001B[0m\u001B[0;97;102m \u001B[0m\u001B[0;97;102m \u001B[0m\u001B[0;97;105m \u001B[0m\u001B[0;97;105m1\u001B[0m\u001B[0;97;105m9\u001B[0m\u001B[0;97;105m \u001B[0m\u001B[0;97;106m \u001B[0m\u001B[0;97;101m8\u001B[0m\u001B[0;97;104m \u001B[0m\u001B[0;97;104m4\u001B[0m\u001B[0;97;104m \u001B[0m\u001B[0;97;104m \u001B[0m\u001B[0;97;100m \u001B[0m\u001B[0;97;100m0\u001B[0m\u001B[0;97;100m \u001B[0m\n",
      " \u001B[0;97;102m9\u001B[0m\u001B[0;97;102m \u001B[0m\u001B[0;97;105m \u001B[0m\u001B[0;97;105m1\u001B[0m\u001B[0;97;105m2\u001B[0m\u001B[0;97;105m \u001B[0m\u001B[0;97;100m1\u001B[0m\u001B[0;97;100m4\u001B[0m\u001B[0;97;100m \u001B[0m\u001B[0;97;105m \u001B[0m\u001B[0;97;105m5\u001B[0m\u001B[0;97;105m \u001B[0m\u001B[0;97;105m \u001B[0m\u001B[0;97;103m \u001B[0m\u001B[0;97;103m1\u001B[0m\u001B[0;97;103m7\u001B[0m\u001B[0;97;103m \u001B[0m\u001B[0;97;101m \u001B[0m\u001B[0;97;101m1\u001B[0m\u001B[0;97;101m5\u001B[0m\u001B[0;97;101m \u001B[0m\u001B[0;97;101m \u001B[0m\u001B[0;97;101m1\u001B[0m\u001B[0;97;101m \u001B[0m\u001B[0;97;101m \u001B[0m\u001B[0;97;100m \u001B[0m\u001B[0;97;100m7\u001B[0m\u001B[0;97;100m \u001B[0m\u001B[0;97;106m \u001B[0m\u001B[0;97;106m6\u001B[0m\u001B[0;97;106m \u001B[0m\u001B[0;97;103m \u001B[0m\u001B[0;97;103m3\u001B[0m\u001B[0;97;103m \u001B[0m\u001B[0;97;104m1\u001B[0m\u001B[0;97;104m8\u001B[0m\u001B[0;97;102m1\u001B[0m\u001B[0;97;102m6\u001B[0m\u001B[0;97;104m1\u001B[0m\u001B[0;97;104m1\u001B[0m\u001B[0;97;103m1\u001B[0m\u001B[0;97;103m0\u001B[0m\u001B[0;97;102m2\u001B[0m\u001B[0;97;102m \u001B[0m\u001B[0;97;105m \u001B[0m\u001B[0;97;106m \u001B[0m\u001B[0;97;101m8\u001B[0m  \u001B[0;97;104m4\u001B[0m  \u001B[0;97;100m0\u001B[0m\n",
      "######################################################\n",
      "Makespan: 54\n"
     ]
    }
   ],
   "source": [
    "from schedule import order_to_schedule\n",
    "\n",
    "\n",
    "from data import load_data\n",
    "jobs_data = load_data(\"data2x20.pkl\")\n",
    "\n",
    "order = f2_cmax_johnson_solver(jobs_data)\n",
    "schedule = order_to_schedule([order, order])\n",
    "print(schedule)"
   ],
   "metadata": {
    "collapsed": false,
    "ExecuteTime": {
     "end_time": "2023-12-03T14:09:59.202271500Z",
     "start_time": "2023-12-03T14:09:59.178265900Z"
    }
   },
   "id": "829e198440ac6c9f"
  },
  {
   "cell_type": "raw",
   "source": [
    "import pickle\n",
    "from main import one_run\n",
    "from data import load_data\n",
    "\n",
    "jobs_data = load_data(\"data2x20.pkl\")\n",
    "runs = []\n",
    "for _ in range(10):\n",
    "    runFitness = one_run(jobs_data)\n",
    "    print(runFitness)\n",
    "    runs.append(runFitness)\n",
    "    \n",
    "with open(\"data/res.pkl\", 'wb') as outp:\n",
    "    pickle.dump(runs, outp, pickle.HIGHEST_PROTOCOL)"
   ],
   "metadata": {
    "collapsed": false
   },
   "id": "1593718f09aa6faf"
  },
  {
   "cell_type": "code",
   "execution_count": 12,
   "outputs": [
    {
     "name": "stdout",
     "output_type": "stream",
     "text": [
      "[[72, 71, 70, 70, 69, 69, 69, 69, 69, 69, 69, 69, 68, 68, 68, 68, 68, 68, 68, 68, 68, 68, 68, 67, 67, 67, 67, 67, 67, 67, 67, 67, 67, 67, 66, 66, 66, 66, 66, 64], [72, 70, 70, 70, 70, 70, 69, 69, 69, 69, 69, 69, 69, 69, 69, 69, 69, 68, 68, 68, 68, 68, 68, 68, 68, 68, 67, 67, 66, 66, 66, 66, 66, 65, 64, 64, 64, 63, 63, 63], [72, 72, 70, 70, 70, 70, 70, 70, 69, 69, 68, 68, 68, 68, 68, 67, 67, 67, 67, 67, 67, 67, 67, 67, 66, 66, 65, 65, 65, 65, 65, 65, 65, 65, 64, 64, 64, 64, 63, 63], [71, 70, 70, 70, 70, 70, 69, 69, 69, 69, 69, 69, 68, 68, 68, 68, 67, 67, 67, 67, 67, 67, 67, 67, 67, 66, 66, 66, 66, 66, 66, 66, 66, 66, 65, 65, 65, 64, 63, 62], [72, 72, 71, 71, 71, 70, 70, 70, 69, 69, 69, 69, 69, 69, 69, 69, 69, 69, 68, 68, 68, 68, 68, 68, 67, 67, 67, 67, 66, 66, 66, 66, 66, 66, 66, 66, 66, 65, 65, 62], [74, 72, 71, 71, 71, 71, 71, 70, 70, 70, 69, 69, 69, 68, 68, 68, 68, 67, 67, 67, 67, 67, 67, 67, 66, 66, 65, 65, 65, 64, 64, 64, 64, 64, 63, 61, 61, 61, 60, 60], [73, 72, 72, 71, 71, 71, 71, 71, 70, 70, 70, 69, 69, 69, 69, 69, 69, 69, 69, 69, 69, 69, 69, 69, 68, 68, 68, 68, 67, 67, 67, 67, 67, 66, 66, 66, 66, 66, 65, 65], [72, 72, 71, 71, 71, 71, 70, 70, 70, 70, 70, 69, 69, 69, 69, 69, 69, 69, 68, 68, 68, 68, 68, 67, 67, 67, 66, 66, 66, 66, 66, 66, 66, 66, 66, 65, 65, 65, 64, 62], [72, 71, 70, 70, 70, 70, 70, 70, 70, 70, 70, 70, 69, 69, 69, 69, 69, 68, 67, 67, 67, 67, 67, 66, 66, 66, 66, 66, 66, 66, 66, 65, 65, 65, 64, 63, 62, 62, 62, 62], [72, 72, 71, 71, 70, 70, 70, 70, 70, 70, 69, 69, 69, 69, 69, 68, 68, 68, 68, 67, 67, 67, 67, 67, 67, 67, 66, 66, 66, 66, 66, 66, 65, 65, 65, 65, 65, 65, 65, 65]]\n"
     ]
    }
   ],
   "source": [
    "import pickle\n",
    "\n",
    "with open(\"data/res.pkl\", 'rb') as inp:\n",
    "    runs = pickle.load(inp)\n",
    "print(runs)"
   ],
   "metadata": {
    "collapsed": false,
    "ExecuteTime": {
     "end_time": "2023-12-03T13:53:18.956958800Z",
     "start_time": "2023-12-03T13:53:18.910093100Z"
    }
   },
   "id": "677d776c81c42610"
  },
  {
   "cell_type": "code",
   "execution_count": 35,
   "outputs": [
    {
     "name": "stdout",
     "output_type": "stream",
     "text": [
      "[ 0.          1.02564103  2.05128205  3.07692308  4.1025641   5.12820513\n",
      "  6.15384615  7.17948718  8.20512821  9.23076923 10.25641026 11.28205128\n",
      " 12.30769231 13.33333333 14.35897436 15.38461538 16.41025641 17.43589744\n",
      " 18.46153846 19.48717949 20.51282051 21.53846154 22.56410256 23.58974359\n",
      " 24.61538462 25.64102564 26.66666667 27.69230769 28.71794872 29.74358974\n",
      " 30.76923077 31.79487179 32.82051282 33.84615385 34.87179487 35.8974359\n",
      " 36.92307692 37.94871795 38.97435897 40.        ]\n"
     ]
    },
    {
     "data": {
      "text/plain": "[(40.0, 100.0)]"
     },
     "execution_count": 35,
     "metadata": {},
     "output_type": "execute_result"
    },
    {
     "data": {
      "text/plain": "<Figure size 640x480 with 1 Axes>",
      "image/png": "[encoded data removed]"
     },
     "metadata": {},
     "output_type": "display_data"
    }
   ],
   "source": [
    "from matplotlib import pyplot as plt\n",
    "import numpy as np\n",
    "\n",
    "#some example data\n",
    "x = np.linspace(0, len(runs[0]), len(runs[0]))\n",
    "print(x)\n",
    "y = [np.mean([runs[j][i] for j in range(len(runs))]) for i in range(len(runs[0]))]\n",
    "# print(y)\n",
    "#some confidence interval\n",
    "ci = 2*1.96 * np.std(y)/np.sqrt(len(x))\n",
    "optimal = schedule.makespan\n",
    "\n",
    "fig, ax = plt.subplots()\n",
    "ax.plot(x,y)\n",
    "ax.fill_between(x, (y-ci), (y+ci), color='y', alpha=.1)\n",
    "ax.plot([0, len(runs[0])], [optimal, optimal])\n",
    "ax.set(ylim = (40,100))"
   ],
   "metadata": {
    "collapsed": false,
    "ExecuteTime": {
     "end_time": "2023-12-03T14:16:29.609608600Z",
     "start_time": "2023-12-03T14:16:29.324810400Z"
    }
   },
   "id": "8327371e5f9a64c7"
  },
  {
   "cell_type": "code",
   "execution_count": null,
   "outputs": [],
   "source": [],
   "metadata": {
    "collapsed": false
   },
   "id": "a06729ede1a8ba9f"
  }
 ],
 "metadata": {
  "kernelspec": {
   "display_name": "Python 3",
   "language": "python",
   "name": "python3"
  },
  "language_info": {
   "codemirror_mode": {
    "name": "ipython",
    "version": 2
   },
   "file_extension": ".py",
   "mimetype": "text/x-python",
   "name": "python",
   "nbconvert_exporter": "python",
   "pygments_lexer": "ipython2",
   "version": "2.7.6"
  }
 },
 "nbformat": 4,
 "nbformat_minor": 5
}
