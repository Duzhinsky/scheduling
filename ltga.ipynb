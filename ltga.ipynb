{
 "cells": [
  {
   "cell_type": "markdown",
   "source": [
    "# Evolutionary approach to the Flow Shop problem \n",
    "\n",
    "The Problem\n",
    "-------------------------\n",
    "Suppose you have N jobs and M machines. Each job consists in M operations on each machine. The i-th operation is executed on the i-th machine and each operation could start only if the previous have already finished. Jobs can be executed in any order. Jobs order could differ depending on machine. The problem is to find optimal solution, i.e. that one with the minimal makespan.\n",
    "\n",
    "Problem overview\n",
    "-------------------------\n",
    "The problem is P-hard only for the case when M = 2. Then it's exactly solved by the Johnson's algorithm. The work is dedicated to the case when M > 2, and, moreover, order of jobs on machines could differ. There are several works on the problem, but most of them solves permutation problem, when order on machines remains the same. Our goal is to find an evolutionary approach to the general flow shop problem. \n",
    "\n",
    "Chromosome representation\n",
    "-------------------------\n",
    "TBD"
   ],
   "metadata": {
    "collapsed": false
   },
   "id": "6bb90d6eba1c2dbb"
  },
  {
   "cell_type": "code",
   "execution_count": 14,
   "outputs": [],
   "source": [
    "from collections import deque\n",
    "from typing import List, Deque\n",
    "from job import Job\n",
    "from functools import cmp_to_key\n",
    "\n",
    "def f2_cmax_johnson_solver(jobs: List[Job]) -> List[Job]:\n",
    "    \"\"\"\n",
    "    Solver for the \"F2 || C_max\" task introduced in the following article:\n",
    "    \n",
    "    S.M. Johnson. Optimal two-and-three-stage production schedules with set-up times included.\n",
    "    Naval Research Logistic Quaterly, 1:61–68, 1954\n",
    "    \n",
    "    link: https://www.rand.org/content/dam/rand/pubs/papers/2008/P402.pdf\n",
    "    \n",
    "    :param jobs: list of jobs to optimize schedule\n",
    "    :returns: jobs ordered to minimize the makespan. As for F2 an order is equal for both stages, list is 1xN\n",
    "    \"\"\"\n",
    "    # Validate input\n",
    "    for job in jobs:\n",
    "        if len(job.actions) != 2:\n",
    "            raise ValueError(\"Johnson solver is able to solve F2||C_max only. \"\n",
    "                             f\"There is a job with {len(job.actions)} actions, so it couldn't be executed as F2 job\")\n",
    "\n",
    "    # Sort by minimal stage time\n",
    "    def jobs_comparator(lhs: Job, rhs: Job) -> int:\n",
    "        return min(lhs.actions) - min(rhs.actions)\n",
    "\n",
    "    sorted_jobs = sorted(jobs, key=cmp_to_key(jobs_comparator))\n",
    "    first_stage_jobs: Deque[Job] = deque()\n",
    "    second_stage_jobs: Deque[Job] = deque()\n",
    "\n",
    "    for job in sorted_jobs:\n",
    "        if job.actions[0] < job.actions[1]:\n",
    "            first_stage_jobs.append(job)\n",
    "        else:\n",
    "            second_stage_jobs.appendleft(job)\n",
    "\n",
    "    return list(first_stage_jobs + second_stage_jobs)"
   ],
   "metadata": {
    "collapsed": false,
    "ExecuteTime": {
     "end_time": "2023-12-03T13:50:47.064024100Z",
     "start_time": "2023-12-03T13:50:47.031726200Z"
    }
   },
   "id": "111e486658094232"
  },
  {
   "cell_type": "code",
   "execution_count": 15,
   "outputs": [
    {
     "name": "stdout",
     "output_type": "stream",
     "text": [
      "######################################################\n",
      "\u001B[0;97;102m9\u001B[0m\u001B[0;97;105m \u001B[0m\u001B[0;97;100m \u001B[0m\u001B[0;97;105m \u001B[0m\u001B[0;97;105m5\u001B[0m\u001B[0;97;105m \u001B[0m\u001B[0;97;103m \u001B[0m\u001B[0;97;103m1\u001B[0m\u001B[0;97;103m7\u001B[0m\u001B[0;97;103m \u001B[0m\u001B[0;97;101m \u001B[0m\u001B[0;97;101m1\u001B[0m\u001B[0;97;101m5\u001B[0m\u001B[0;97;101m \u001B[0m\u001B[0;97;101m \u001B[0m\u001B[0;97;101m1\u001B[0m\u001B[0;97;101m \u001B[0m\u001B[0;97;101m \u001B[0m\u001B[0;97;100m \u001B[0m\u001B[0;97;100m7\u001B[0m\u001B[0;97;100m \u001B[0m\u001B[0;97;106m \u001B[0m\u001B[0;97;106m6\u001B[0m\u001B[0;97;106m \u001B[0m\u001B[0;97;103m \u001B[0m\u001B[0;97;103m3\u001B[0m\u001B[0;97;103m \u001B[0m\u001B[0;97;104m1\u001B[0m\u001B[0;97;104m8\u001B[0m\u001B[0;97;102m1\u001B[0m\u001B[0;97;102m6\u001B[0m\u001B[0;97;102m \u001B[0m\u001B[0;97;104m1\u001B[0m\u001B[0;97;104m1\u001B[0m\u001B[0;97;103m1\u001B[0m\u001B[0;97;103m0\u001B[0m\u001B[0;97;102m \u001B[0m\u001B[0;97;102m2\u001B[0m\u001B[0;97;102m \u001B[0m\u001B[0;97;102m \u001B[0m\u001B[0;97;105m \u001B[0m\u001B[0;97;105m1\u001B[0m\u001B[0;97;105m9\u001B[0m\u001B[0;97;105m \u001B[0m\u001B[0;97;106m \u001B[0m\u001B[0;97;101m8\u001B[0m\u001B[0;97;104m \u001B[0m\u001B[0;97;104m4\u001B[0m\u001B[0;97;104m \u001B[0m\u001B[0;97;104m \u001B[0m\u001B[0;97;100m \u001B[0m\u001B[0;97;100m0\u001B[0m\u001B[0;97;100m \u001B[0m\n",
      " \u001B[0;97;102m9\u001B[0m\u001B[0;97;102m \u001B[0m\u001B[0;97;105m \u001B[0m\u001B[0;97;105m1\u001B[0m\u001B[0;97;105m2\u001B[0m\u001B[0;97;105m \u001B[0m\u001B[0;97;100m1\u001B[0m\u001B[0;97;100m4\u001B[0m\u001B[0;97;100m \u001B[0m\u001B[0;97;105m \u001B[0m\u001B[0;97;105m5\u001B[0m\u001B[0;97;105m \u001B[0m\u001B[0;97;105m \u001B[0m\u001B[0;97;103m \u001B[0m\u001B[0;97;103m1\u001B[0m\u001B[0;97;103m7\u001B[0m\u001B[0;97;103m \u001B[0m\u001B[0;97;101m \u001B[0m\u001B[0;97;101m1\u001B[0m\u001B[0;97;101m5\u001B[0m\u001B[0;97;101m \u001B[0m\u001B[0;97;101m \u001B[0m\u001B[0;97;101m1\u001B[0m\u001B[0;97;101m \u001B[0m\u001B[0;97;101m \u001B[0m\u001B[0;97;100m \u001B[0m\u001B[0;97;100m7\u001B[0m\u001B[0;97;100m \u001B[0m\u001B[0;97;106m \u001B[0m\u001B[0;97;106m6\u001B[0m\u001B[0;97;106m \u001B[0m\u001B[0;97;103m \u001B[0m\u001B[0;97;103m3\u001B[0m\u001B[0;97;103m \u001B[0m\u001B[0;97;104m1\u001B[0m\u001B[0;97;104m8\u001B[0m\u001B[0;97;102m1\u001B[0m\u001B[0;97;102m6\u001B[0m\u001B[0;97;104m1\u001B[0m\u001B[0;97;104m1\u001B[0m\u001B[0;97;103m1\u001B[0m\u001B[0;97;103m0\u001B[0m\u001B[0;97;102m2\u001B[0m\u001B[0;97;102m \u001B[0m\u001B[0;97;105m \u001B[0m\u001B[0;97;106m \u001B[0m\u001B[0;97;101m8\u001B[0m  \u001B[0;97;104m4\u001B[0m  \u001B[0;97;100m0\u001B[0m\n",
      "######################################################\n",
      "Makespan: 54\n"
     ]
    }
   ],
   "source": [
    "from schedule import order_to_schedule\n",
    "\n",
    "\n",
    "from data import load_data\n",
    "jobs_data = load_data(\"data2x20.pkl\")\n",
    "\n",
    "order = f2_cmax_johnson_solver(jobs_data)\n",
    "schedule = order_to_schedule([order, order])\n",
    "print(schedule)"
   ],
   "metadata": {
    "collapsed": false,
    "ExecuteTime": {
     "end_time": "2023-12-03T13:50:47.079536200Z",
     "start_time": "2023-12-03T13:50:47.047722800Z"
    }
   },
   "id": "829e198440ac6c9f"
  },
  {
   "cell_type": "raw",
   "source": [
    "import pickle\n",
    "from main import one_run\n",
    "from data import load_data\n",
    "\n",
    "jobs_data = load_data(\"data2x20.pkl\")\n",
    "runs = []\n",
    "for _ in range(10):\n",
    "    runFitness = one_run(jobs_data)\n",
    "    print(runFitness)\n",
    "    runs.append(runFitness)\n",
    "    \n",
    "with open(\"data/res.pkl\", 'wb') as outp:\n",
    "    pickle.dump(runs, outp, pickle.HIGHEST_PROTOCOL)"
   ],
   "metadata": {
    "collapsed": false
   },
   "id": "1593718f09aa6faf"
  },
  {
   "cell_type": "code",
   "execution_count": 16,
   "outputs": [
    {
     "name": "stdout",
     "output_type": "stream",
     "text": [
      "[[72, 71, 70, 70, 69, 69, 69, 69, 69, 69, 69, 69, 68, 68, 68, 68, 68, 68, 68, 68, 68, 68, 68, 67, 67, 67, 67, 67, 67, 67, 67, 67, 67, 67, 66, 66, 66, 66, 66, 64], [72, 70, 70, 70, 70, 70, 69, 69, 69, 69, 69, 69, 69, 69, 69, 69, 69, 68, 68, 68, 68, 68, 68, 68, 68, 68, 67, 67, 66, 66, 66, 66, 66, 65, 64, 64, 64, 63, 63, 63], [72, 72, 70, 70, 70, 70, 70, 70, 69, 69, 68, 68, 68, 68, 68, 67, 67, 67, 67, 67, 67, 67, 67, 67, 66, 66, 65, 65, 65, 65, 65, 65, 65, 65, 64, 64, 64, 64, 63, 63], [71, 70, 70, 70, 70, 70, 69, 69, 69, 69, 69, 69, 68, 68, 68, 68, 67, 67, 67, 67, 67, 67, 67, 67, 67, 66, 66, 66, 66, 66, 66, 66, 66, 66, 65, 65, 65, 64, 63, 62], [72, 72, 71, 71, 71, 70, 70, 70, 69, 69, 69, 69, 69, 69, 69, 69, 69, 69, 68, 68, 68, 68, 68, 68, 67, 67, 67, 67, 66, 66, 66, 66, 66, 66, 66, 66, 66, 65, 65, 62], [74, 72, 71, 71, 71, 71, 71, 70, 70, 70, 69, 69, 69, 68, 68, 68, 68, 67, 67, 67, 67, 67, 67, 67, 66, 66, 65, 65, 65, 64, 64, 64, 64, 64, 63, 61, 61, 61, 60, 60], [73, 72, 72, 71, 71, 71, 71, 71, 70, 70, 70, 69, 69, 69, 69, 69, 69, 69, 69, 69, 69, 69, 69, 69, 68, 68, 68, 68, 67, 67, 67, 67, 67, 66, 66, 66, 66, 66, 65, 65], [72, 72, 71, 71, 71, 71, 70, 70, 70, 70, 70, 69, 69, 69, 69, 69, 69, 69, 68, 68, 68, 68, 68, 67, 67, 67, 66, 66, 66, 66, 66, 66, 66, 66, 66, 65, 65, 65, 64, 62], [72, 71, 70, 70, 70, 70, 70, 70, 70, 70, 70, 70, 69, 69, 69, 69, 69, 68, 67, 67, 67, 67, 67, 66, 66, 66, 66, 66, 66, 66, 66, 65, 65, 65, 64, 63, 62, 62, 62, 62], [72, 72, 71, 71, 70, 70, 70, 70, 70, 70, 69, 69, 69, 69, 69, 68, 68, 68, 68, 67, 67, 67, 67, 67, 67, 67, 66, 66, 66, 66, 66, 66, 65, 65, 65, 65, 65, 65, 65, 65]]\n"
     ]
    }
   ],
   "source": [
    "with open(\"data/res.pkl\", 'rb') as inp:\n",
    "    runs = pickle.load(inp)\n",
    "print(runs)"
   ],
   "metadata": {
    "collapsed": false,
    "ExecuteTime": {
     "end_time": "2023-12-03T13:50:47.110803100Z",
     "start_time": "2023-12-03T13:50:47.054831200Z"
    }
   },
   "id": "677d776c81c42610"
  }
 ],
 "metadata": {
  "kernelspec": {
   "display_name": "Python 3",
   "language": "python",
   "name": "python3"
  },
  "language_info": {
   "codemirror_mode": {
    "name": "ipython",
    "version": 2
   },
   "file_extension": ".py",
   "mimetype": "text/x-python",
   "name": "python",
   "nbconvert_exporter": "python",
   "pygments_lexer": "ipython2",
   "version": "2.7.6"
  }
 },
 "nbformat": 4,
 "nbformat_minor": 5
}
